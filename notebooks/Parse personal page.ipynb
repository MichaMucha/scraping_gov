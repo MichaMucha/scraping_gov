{
 "cells": [
  {
   "cell_type": "code",
   "execution_count": 1,
   "metadata": {
    "collapsed": true
   },
   "outputs": [],
   "source": [
    "from bs4 import BeautifulSoup, NavigableString\n",
    "import re\n",
    "import pickle\n",
    "import datetime\n",
    "from numpy import nan"
   ]
  },
  {
   "cell_type": "code",
   "execution_count": 27,
   "metadata": {
    "collapsed": true
   },
   "outputs": [],
   "source": [
    "d = pickle.load(open('../data/deputy_webpages_offices_sejm8.pickle', 'rb'))"
   ]
  },
  {
   "cell_type": "code",
   "execution_count": 3,
   "metadata": {
    "collapsed": false
   },
   "outputs": [],
   "source": [
    "# html = open('../data/Adam Abramowicz.html', 'r').read()\n",
    "html = list(d.values())[0]"
   ]
  },
  {
   "cell_type": "code",
   "execution_count": 4,
   "metadata": {
    "collapsed": false
   },
   "outputs": [],
   "source": [
    "soup = BeautifulSoup(html, 'lxml')"
   ]
  },
  {
   "cell_type": "code",
   "execution_count": 5,
   "metadata": {
    "collapsed": false
   },
   "outputs": [
    {
     "data": {
      "text/plain": [
       "'Sławomir Kłosowski'"
      ]
     },
     "execution_count": 5,
     "metadata": {},
     "output_type": "execute_result"
    }
   ],
   "source": [
    "#Name\n",
    "soup.find(id='title_content').h1.text"
   ]
  },
  {
   "cell_type": "code",
   "execution_count": 6,
   "metadata": {
    "collapsed": false
   },
   "outputs": [
    {
     "data": {
      "text/plain": [
       "'Prawo i Sprawiedliwość'"
      ]
     },
     "execution_count": 6,
     "metadata": {},
     "output_type": "execute_result"
    }
   ],
   "source": [
    "#Party\n",
    "soup.find(id='lblLista').next_sibling.text"
   ]
  },
  {
   "cell_type": "code",
   "execution_count": 7,
   "metadata": {
    "collapsed": false
   },
   "outputs": [
    {
     "data": {
      "text/plain": [
       "'http://orka.sejm.gov.pl/Poslowie8.nsf/0/8EC5782903E9ED87C1257EEE00320CB8/$File/161.jpg'"
      ]
     },
     "execution_count": 7,
     "metadata": {},
     "output_type": "execute_result"
    }
   ],
   "source": [
    "#Image\n",
    "soup.find('img').attrs['src']"
   ]
  },
  {
   "cell_type": "code",
   "execution_count": 8,
   "metadata": {
    "collapsed": false
   },
   "outputs": [
    {
     "data": {
      "text/plain": [
       "'21-02-1964'"
      ]
     },
     "execution_count": 8,
     "metadata": {},
     "output_type": "execute_result"
    }
   ],
   "source": [
    "#Birth date\n",
    "bd = soup.find(id='urodzony').next_element\n",
    "bd"
   ]
  },
  {
   "cell_type": "code",
   "execution_count": 11,
   "metadata": {
    "collapsed": false
   },
   "outputs": [
    {
     "data": {
      "text/plain": [
       "51"
      ]
     },
     "execution_count": 11,
     "metadata": {},
     "output_type": "execute_result"
    }
   ],
   "source": [
    "#Age\n",
    "(datetime.datetime.now() - datetime.datetime.strptime(bd, '%d-%m-%Y')).days // 365"
   ]
  },
  {
   "cell_type": "code",
   "execution_count": 12,
   "metadata": {
    "collapsed": false
   },
   "outputs": [
    {
     "data": {
      "text/plain": [
       "'Wambierzyce'"
      ]
     },
     "execution_count": 12,
     "metadata": {},
     "output_type": "execute_result"
    }
   ],
   "source": [
    "#Birth place\n",
    "soup.find(id='urodzony').contents[2]"
   ]
  },
  {
   "cell_type": "code",
   "execution_count": 13,
   "metadata": {
    "collapsed": false
   },
   "outputs": [],
   "source": [
    "#Adres głównego biura\n",
    "x=soup.find('tbody')"
   ]
  },
  {
   "cell_type": "code",
   "execution_count": 14,
   "metadata": {
    "collapsed": false
   },
   "outputs": [
    {
     "data": {
      "text/plain": [
       "'ul. Pl. Kopernika 1 m. 5'"
      ]
     },
     "execution_count": 14,
     "metadata": {},
     "output_type": "execute_result"
    }
   ],
   "source": [
    "street = x.find(string=re.compile('^[\\*Biuro]')).next.nobr.text\n",
    "street"
   ]
  },
  {
   "cell_type": "code",
   "execution_count": 15,
   "metadata": {
    "collapsed": false
   },
   "outputs": [
    {
     "data": {
      "text/plain": [
       "'45-040 Opole'"
      ]
     },
     "execution_count": 15,
     "metadata": {},
     "output_type": "execute_result"
    }
   ],
   "source": [
    "zip_town = x.find(string=re.compile('^[\\*Biuro]')).next.nobr.find_next('nobr').text\n",
    "zip_town"
   ]
  },
  {
   "cell_type": "code",
   "execution_count": 16,
   "metadata": {
    "collapsed": false
   },
   "outputs": [
    {
     "data": {
      "text/plain": [
       "'woj. opolskie'"
      ]
     },
     "execution_count": 16,
     "metadata": {},
     "output_type": "execute_result"
    }
   ],
   "source": [
    "area = x.find(string=re.compile('^[\\*Biuro]')).next.nobr.find_next('nobr').find_next('nobr').text\n",
    "area"
   ]
  },
  {
   "cell_type": "code",
   "execution_count": 17,
   "metadata": {
    "collapsed": false
   },
   "outputs": [
    {
     "data": {
      "text/plain": [
       "1"
      ]
     },
     "execution_count": 17,
     "metadata": {},
     "output_type": "execute_result"
    }
   ],
   "source": [
    "#Liczba biur\n",
    "len(x.find_all('tr'))-1"
   ]
  },
  {
   "cell_type": "code",
   "execution_count": 18,
   "metadata": {
    "collapsed": false
   },
   "outputs": [
    {
     "ename": "AttributeError",
     "evalue": "'NoneType' object has no attribute 'replace'",
     "output_type": "error",
     "traceback": [
      "\u001b[0;31m---------------------------------------------------------------------------\u001b[0m",
      "\u001b[0;31mAttributeError\u001b[0m                            Traceback (most recent call last)",
      "\u001b[0;32m<ipython-input-18-0fc42bf32bff>\u001b[0m in \u001b[0;36m<module>\u001b[0;34m()\u001b[0m\n\u001b[1;32m      1\u001b[0m \u001b[0;31m#Telefon do glownego biura\u001b[0m\u001b[0;34m\u001b[0m\u001b[0;34m\u001b[0m\u001b[0m\n\u001b[0;32m----> 2\u001b[0;31m \u001b[0mx\u001b[0m\u001b[0;34m.\u001b[0m\u001b[0mfind\u001b[0m\u001b[0;34m(\u001b[0m\u001b[0mtext\u001b[0m\u001b[0;34m=\u001b[0m\u001b[0mre\u001b[0m\u001b[0;34m.\u001b[0m\u001b[0mcompile\u001b[0m\u001b[0;34m(\u001b[0m\u001b[0;34mr'tel.'\u001b[0m\u001b[0;34m)\u001b[0m\u001b[0;34m)\u001b[0m\u001b[0;34m.\u001b[0m\u001b[0mreplace\u001b[0m\u001b[0;34m(\u001b[0m\u001b[0;34m'\\n'\u001b[0m\u001b[0;34m,\u001b[0m \u001b[0;34m''\u001b[0m\u001b[0;34m)\u001b[0m\u001b[0;34m.\u001b[0m\u001b[0mreplace\u001b[0m\u001b[0;34m(\u001b[0m\u001b[0;34m'tel. '\u001b[0m\u001b[0;34m,\u001b[0m \u001b[0;34m''\u001b[0m\u001b[0;34m)\u001b[0m\u001b[0;34m\u001b[0m\u001b[0m\n\u001b[0m",
      "\u001b[0;31mAttributeError\u001b[0m: 'NoneType' object has no attribute 'replace'"
     ]
    }
   ],
   "source": [
    "#Telefon do glownego biura\n",
    "x.find(text=re.compile(r'tel.')).replace('\\n', '').replace('tel. ', '')"
   ]
  },
  {
   "cell_type": "code",
   "execution_count": 19,
   "metadata": {
    "collapsed": false
   },
   "outputs": [
    {
     "data": {
      "text/plain": [
       "'17048'"
      ]
     },
     "execution_count": 19,
     "metadata": {},
     "output_type": "execute_result"
    }
   ],
   "source": [
    "#Liczba głosów\n",
    "soup.find(id='lblGlosy').next_sibling.text"
   ]
  },
  {
   "cell_type": "code",
   "execution_count": 20,
   "metadata": {
    "collapsed": false
   },
   "outputs": [
    {
     "data": {
      "text/plain": [
       "''"
      ]
     },
     "execution_count": 20,
     "metadata": {},
     "output_type": "execute_result"
    }
   ],
   "source": [
    "#Wykształcenie\n",
    "soup.find(id='lblWyksztalcenie').next_sibling.text"
   ]
  },
  {
   "cell_type": "code",
   "execution_count": 21,
   "metadata": {
    "collapsed": false
   },
   "outputs": [
    {
     "data": {
      "text/plain": [
       "[]"
      ]
     },
     "execution_count": 21,
     "metadata": {},
     "output_type": "execute_result"
    }
   ],
   "source": [
    "#Szkoły\n",
    "[x for x in soup.find(id='lblSzkola').next_sibling.children if isinstance(x, NavigableString)]"
   ]
  },
  {
   "cell_type": "markdown",
   "metadata": {},
   "source": [
    "## Creating a dataset"
   ]
  },
  {
   "cell_type": "code",
   "execution_count": 22,
   "metadata": {
    "collapsed": true
   },
   "outputs": [],
   "source": [
    "import pandas"
   ]
  },
  {
   "cell_type": "code",
   "execution_count": 28,
   "metadata": {
    "collapsed": false
   },
   "outputs": [],
   "source": [
    "df = pandas.DataFrame(columns=['link', 'name', 'party_list', 'picture', 'date_of_birth', 'birth_place', 'main_office_street', 'main_office_zip_town', 'main_office_region', 'main_office_phone', 'offices', 'votes'])\n",
    "\n",
    "def parse_page(url, html):\n",
    "    soup = BeautifulSoup(html, 'lxml')\n",
    "    result = [url]\n",
    "    try:\n",
    "        result += [soup.find(id='title_content').h1.text]\n",
    "    except:\n",
    "        result += ['']\n",
    "        print('failed url:', url)\n",
    "    try:\n",
    "        result += [soup.find(id='lblLista').next_sibling.text]\n",
    "    except:\n",
    "        result += ['']\n",
    "        print('failed url:', url)\n",
    "    result += [soup.find('img').attrs['src']]\n",
    "    bd = soup.find(id='urodzony').next_element\n",
    "    result += [datetime.datetime.strptime(bd, '%d-%m-%Y')]\n",
    "    result += [soup.find(id='urodzony').contents[2]]\n",
    "    x=soup.find('tbody')\n",
    "    try:\n",
    "        result += [x.find(string=re.compile('^[\\*Biuro]')).next.nobr.text]\n",
    "        result += [x.find(string=re.compile('^[\\*Biuro]')).next.nobr.find_next('nobr').text]\n",
    "        result += [x.find(string=re.compile('^[\\*Biuro]')).next.nobr.find_next('nobr').find_next('nobr').text]\n",
    "    except:\n",
    "        result += ['', '', '']\n",
    "    try:\n",
    "        result += [x.find(text=re.compile(r'tel.')).replace('\\n', '').replace('tel. ', '')]\n",
    "    except:\n",
    "        result += ['']\n",
    "    try:\n",
    "        result += [len(x.find_all('tr'))-1]\n",
    "    except:\n",
    "        result += [0]\n",
    "    result += [soup.find(id='lblGlosy').next_sibling.text]\n",
    "    return result\n",
    "\n",
    "for i, item in enumerate(d.items()):\n",
    "    url, html = item\n",
    "    df.loc[i] = parse_page(url, html)"
   ]
  },
  {
   "cell_type": "code",
   "execution_count": 29,
   "metadata": {
    "collapsed": false
   },
   "outputs": [
    {
     "data": {
      "text/html": [
       "<div>\n",
       "<table border=\"1\" class=\"dataframe\">\n",
       "  <thead>\n",
       "    <tr style=\"text-align: right;\">\n",
       "      <th></th>\n",
       "      <th>link</th>\n",
       "      <th>name</th>\n",
       "      <th>party_list</th>\n",
       "      <th>picture</th>\n",
       "      <th>date_of_birth</th>\n",
       "      <th>birth_place</th>\n",
       "      <th>main_office_street</th>\n",
       "      <th>main_office_zip_town</th>\n",
       "      <th>main_office_region</th>\n",
       "      <th>main_office_phone</th>\n",
       "      <th>offices</th>\n",
       "      <th>votes</th>\n",
       "    </tr>\n",
       "  </thead>\n",
       "  <tbody>\n",
       "    <tr>\n",
       "      <th>0</th>\n",
       "      <td>http://www.sejm.gov.pl/Sejm8.nsf/posel.xsp?id=...</td>\n",
       "      <td>Kamila Gasiuk-Pihowicz</td>\n",
       "      <td>Nowoczesna Ryszarda Petru</td>\n",
       "      <td>http://orka.sejm.gov.pl/Poslowie8.nsf/0/5F01A7...</td>\n",
       "      <td>1983-05-08</td>\n",
       "      <td>Warszawa</td>\n",
       "      <td></td>\n",
       "      <td></td>\n",
       "      <td></td>\n",
       "      <td></td>\n",
       "      <td>-1</td>\n",
       "      <td>19041</td>\n",
       "    </tr>\n",
       "    <tr>\n",
       "      <th>1</th>\n",
       "      <td>http://www.sejm.gov.pl/Sejm8.nsf/posel.xsp?id=...</td>\n",
       "      <td>Jan Szyszko</td>\n",
       "      <td>Prawo i Sprawiedliwość</td>\n",
       "      <td>http://orka.sejm.gov.pl/Poslowie8.nsf/0/6B5DAD...</td>\n",
       "      <td>1944-04-19</td>\n",
       "      <td>Stara Miłosna</td>\n",
       "      <td></td>\n",
       "      <td></td>\n",
       "      <td></td>\n",
       "      <td></td>\n",
       "      <td>-1</td>\n",
       "      <td>15015</td>\n",
       "    </tr>\n",
       "    <tr>\n",
       "      <th>2</th>\n",
       "      <td>http://www.sejm.gov.pl/Sejm8.nsf/posel.xsp?id=...</td>\n",
       "      <td>Kornel Morawiecki</td>\n",
       "      <td>Kukiz'15</td>\n",
       "      <td>http://orka.sejm.gov.pl/Poslowie8.nsf/0/4D9A1D...</td>\n",
       "      <td>1941-05-03</td>\n",
       "      <td>Warszawa</td>\n",
       "      <td>ul. Barlickiego 2b</td>\n",
       "      <td>50-324 Wrocław</td>\n",
       "      <td>woj. dolnośląskie</td>\n",
       "      <td></td>\n",
       "      <td>1</td>\n",
       "      <td>26101</td>\n",
       "    </tr>\n",
       "    <tr>\n",
       "      <th>3</th>\n",
       "      <td>http://www.sejm.gov.pl/Sejm8.nsf/posel.xsp?id=...</td>\n",
       "      <td>Marcin Święcicki</td>\n",
       "      <td>Platforma Obywatelska</td>\n",
       "      <td>http://orka.sejm.gov.pl/Poslowie8.nsf/0/9B9F2D...</td>\n",
       "      <td>1947-04-17</td>\n",
       "      <td>Warszawa</td>\n",
       "      <td>ul. Nowy Świat 41a</td>\n",
       "      <td>00-042 Warszawa</td>\n",
       "      <td>woj. mazowieckie</td>\n",
       "      <td>(22) 692-72-27</td>\n",
       "      <td>1</td>\n",
       "      <td>8329</td>\n",
       "    </tr>\n",
       "    <tr>\n",
       "      <th>4</th>\n",
       "      <td>http://www.sejm.gov.pl/Sejm8.nsf/posel.xsp?id=...</td>\n",
       "      <td>Robert Winnicki</td>\n",
       "      <td>Kukiz'15</td>\n",
       "      <td>http://orka.sejm.gov.pl/Poslowie8.nsf/0/DCDDBB...</td>\n",
       "      <td>1985-07-18</td>\n",
       "      <td>Zgorzelec</td>\n",
       "      <td>ul. Pl. Solidarności 1/3/5</td>\n",
       "      <td>53-661 Wrocław</td>\n",
       "      <td>woj. dolnośląskie</td>\n",
       "      <td></td>\n",
       "      <td>1</td>\n",
       "      <td>11802</td>\n",
       "    </tr>\n",
       "  </tbody>\n",
       "</table>\n",
       "</div>"
      ],
      "text/plain": [
       "                                                link                    name  \\\n",
       "0  http://www.sejm.gov.pl/Sejm8.nsf/posel.xsp?id=...  Kamila Gasiuk-Pihowicz   \n",
       "1  http://www.sejm.gov.pl/Sejm8.nsf/posel.xsp?id=...             Jan Szyszko   \n",
       "2  http://www.sejm.gov.pl/Sejm8.nsf/posel.xsp?id=...       Kornel Morawiecki   \n",
       "3  http://www.sejm.gov.pl/Sejm8.nsf/posel.xsp?id=...        Marcin Święcicki   \n",
       "4  http://www.sejm.gov.pl/Sejm8.nsf/posel.xsp?id=...         Robert Winnicki   \n",
       "\n",
       "                  party_list  \\\n",
       "0  Nowoczesna Ryszarda Petru   \n",
       "1     Prawo i Sprawiedliwość   \n",
       "2                   Kukiz'15   \n",
       "3      Platforma Obywatelska   \n",
       "4                   Kukiz'15   \n",
       "\n",
       "                                             picture date_of_birth  \\\n",
       "0  http://orka.sejm.gov.pl/Poslowie8.nsf/0/5F01A7...    1983-05-08   \n",
       "1  http://orka.sejm.gov.pl/Poslowie8.nsf/0/6B5DAD...    1944-04-19   \n",
       "2  http://orka.sejm.gov.pl/Poslowie8.nsf/0/4D9A1D...    1941-05-03   \n",
       "3  http://orka.sejm.gov.pl/Poslowie8.nsf/0/9B9F2D...    1947-04-17   \n",
       "4  http://orka.sejm.gov.pl/Poslowie8.nsf/0/DCDDBB...    1985-07-18   \n",
       "\n",
       "     birth_place          main_office_street main_office_zip_town  \\\n",
       "0       Warszawa                                                    \n",
       "1  Stara Miłosna                                                    \n",
       "2       Warszawa          ul. Barlickiego 2b       50-324 Wrocław   \n",
       "3       Warszawa          ul. Nowy Świat 41a      00-042 Warszawa   \n",
       "4      Zgorzelec  ul. Pl. Solidarności 1/3/5       53-661 Wrocław   \n",
       "\n",
       "  main_office_region main_office_phone  offices  votes  \n",
       "0                                            -1  19041  \n",
       "1                                            -1  15015  \n",
       "2  woj. dolnośląskie                          1  26101  \n",
       "3   woj. mazowieckie    (22) 692-72-27        1   8329  \n",
       "4  woj. dolnośląskie                          1  11802  "
      ]
     },
     "execution_count": 29,
     "metadata": {},
     "output_type": "execute_result"
    }
   ],
   "source": [
    "df.head()"
   ]
  },
  {
   "cell_type": "code",
   "execution_count": 31,
   "metadata": {
    "collapsed": false
   },
   "outputs": [
    {
     "data": {
      "text/plain": [
       " 1    330\n",
       "-1    118\n",
       " 2      8\n",
       " 0      3\n",
       " 3      1\n",
       "Name: offices, dtype: int64"
      ]
     },
     "execution_count": 31,
     "metadata": {},
     "output_type": "execute_result"
    }
   ],
   "source": [
    "df.offices.value_counts()"
   ]
  },
  {
   "cell_type": "code",
   "execution_count": 32,
   "metadata": {
    "collapsed": true
   },
   "outputs": [],
   "source": [
    "df.to_excel('../output/ListaPoslow_sejm8.xlsx')"
   ]
  },
  {
   "cell_type": "markdown",
   "metadata": {},
   "source": [
    "## Creating an education dataset"
   ]
  },
  {
   "cell_type": "code",
   "execution_count": 33,
   "metadata": {
    "collapsed": false
   },
   "outputs": [
    {
     "data": {
      "text/plain": [
       "[]"
      ]
     },
     "execution_count": 33,
     "metadata": {},
     "output_type": "execute_result"
    }
   ],
   "source": [
    "#Szkoły\n",
    "szkoly = [x for x in soup.find(id='lblSzkola').next_sibling.children if isinstance(x, NavigableString)]\n",
    "szkoly"
   ]
  },
  {
   "cell_type": "code",
   "execution_count": 34,
   "metadata": {
    "collapsed": false
   },
   "outputs": [],
   "source": [
    "def parse_education(soup):\n",
    "    szkoly = [x for x in soup.find(id='lblSzkola').next_sibling.children if isinstance(x, NavigableString)]\n",
    "    for s in szkoly:\n",
    "        v = s.split(', ')\n",
    "        szkola = v[0]\n",
    "        wydzial = ''\n",
    "        if len(v) == 3:\n",
    "            wydzial = v[1]\n",
    "        kierunek = v[-1]\n",
    "        try:\n",
    "            rok = re.findall('(\\d+)', kierunek)[0]\n",
    "        except:\n",
    "            rok = nan\n",
    "        yield [szkola, wydzial, kierunek, rok]"
   ]
  },
  {
   "cell_type": "code",
   "execution_count": 35,
   "metadata": {
    "collapsed": false
   },
   "outputs": [],
   "source": [
    "dfe = pandas.DataFrame(columns=['name', 'date_of_birth', 'birth_place', 'party_list', 'institution', 'department', 'major', 'year'])\n",
    "i = 0\n",
    "for html in d.values():\n",
    "    soup = BeautifulSoup(html, 'lxml')    \n",
    "    n = soup.find(id='title_content').h1.text\n",
    "    bd = soup.find(id='urodzony').next_element\n",
    "    dob = datetime.datetime.strptime(bd, '%d-%m-%Y')\n",
    "    bp = soup.find(id='urodzony').contents[2]\n",
    "    par = soup.find(id='lblLista').next_sibling.text\n",
    "    for e in parse_education(soup):\n",
    "        dfe.loc[i] = [n, dob, bp, par] + e\n",
    "        i += 1"
   ]
  },
  {
   "cell_type": "code",
   "execution_count": 36,
   "metadata": {
    "collapsed": false
   },
   "outputs": [
    {
     "data": {
      "text/html": [
       "<div>\n",
       "<table border=\"1\" class=\"dataframe\">\n",
       "  <thead>\n",
       "    <tr style=\"text-align: right;\">\n",
       "      <th></th>\n",
       "      <th>name</th>\n",
       "      <th>date_of_birth</th>\n",
       "      <th>birth_place</th>\n",
       "      <th>party_list</th>\n",
       "      <th>institution</th>\n",
       "      <th>department</th>\n",
       "      <th>major</th>\n",
       "      <th>year</th>\n",
       "    </tr>\n",
       "  </thead>\n",
       "  <tbody>\n",
       "  </tbody>\n",
       "</table>\n",
       "</div>"
      ],
      "text/plain": [
       "Empty DataFrame\n",
       "Columns: [name, date_of_birth, birth_place, party_list, institution, department, major, year]\n",
       "Index: []"
      ]
     },
     "execution_count": 36,
     "metadata": {},
     "output_type": "execute_result"
    }
   ],
   "source": [
    "dfe.head()"
   ]
  },
  {
   "cell_type": "code",
   "execution_count": 37,
   "metadata": {
    "collapsed": false
   },
   "outputs": [
    {
     "data": {
      "text/html": [
       "<div>\n",
       "<table border=\"1\" class=\"dataframe\">\n",
       "  <thead>\n",
       "    <tr style=\"text-align: right;\">\n",
       "      <th></th>\n",
       "      <th>name</th>\n",
       "      <th>date_of_birth</th>\n",
       "      <th>birth_place</th>\n",
       "      <th>party_list</th>\n",
       "      <th>institution</th>\n",
       "      <th>department</th>\n",
       "      <th>major</th>\n",
       "      <th>year</th>\n",
       "    </tr>\n",
       "  </thead>\n",
       "  <tbody>\n",
       "    <tr>\n",
       "      <th>count</th>\n",
       "      <td>0</td>\n",
       "      <td>0</td>\n",
       "      <td>0</td>\n",
       "      <td>0</td>\n",
       "      <td>0</td>\n",
       "      <td>0</td>\n",
       "      <td>0</td>\n",
       "      <td>0</td>\n",
       "    </tr>\n",
       "    <tr>\n",
       "      <th>unique</th>\n",
       "      <td>0</td>\n",
       "      <td>0</td>\n",
       "      <td>0</td>\n",
       "      <td>0</td>\n",
       "      <td>0</td>\n",
       "      <td>0</td>\n",
       "      <td>0</td>\n",
       "      <td>0</td>\n",
       "    </tr>\n",
       "  </tbody>\n",
       "</table>\n",
       "</div>"
      ],
      "text/plain": [
       "        name  date_of_birth  birth_place  party_list  institution  department  \\\n",
       "count      0              0            0           0            0           0   \n",
       "unique     0              0            0           0            0           0   \n",
       "\n",
       "        major  year  \n",
       "count       0     0  \n",
       "unique      0     0  "
      ]
     },
     "execution_count": 37,
     "metadata": {},
     "output_type": "execute_result"
    }
   ],
   "source": [
    "dfe.describe()"
   ]
  },
  {
   "cell_type": "code",
   "execution_count": 285,
   "metadata": {
    "collapsed": true
   },
   "outputs": [],
   "source": [
    "dfe.to_excel('../output/Poslowie_Edukacja_sejm8.xlsx')"
   ]
  }
 ],
 "metadata": {
  "kernelspec": {
   "display_name": "Python 3",
   "language": "python",
   "name": "python3"
  },
  "language_info": {
   "codemirror_mode": {
    "name": "ipython",
    "version": 3
   },
   "file_extension": ".py",
   "mimetype": "text/x-python",
   "name": "python",
   "nbconvert_exporter": "python",
   "pygments_lexer": "ipython3",
   "version": "3.5.0"
  }
 },
 "nbformat": 4,
 "nbformat_minor": 0
}
