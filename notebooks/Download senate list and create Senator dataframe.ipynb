{
 "cells": [
  {
   "cell_type": "code",
   "execution_count": 1,
   "metadata": {
    "collapsed": true
   },
   "outputs": [],
   "source": [
    "import pandas\n",
    "import requests\n",
    "from time import sleep\n",
    "import pickle\n",
    "from bs4 import BeautifulSoup"
   ]
  },
  {
   "cell_type": "code",
   "execution_count": 2,
   "metadata": {
    "collapsed": true
   },
   "outputs": [],
   "source": [
    "html = open('../data/senatorowie.html', 'r').read()"
   ]
  },
  {
   "cell_type": "code",
   "execution_count": 3,
   "metadata": {
    "collapsed": true
   },
   "outputs": [],
   "source": [
    "soup = BeautifulSoup(html, 'lxml')"
   ]
  },
  {
   "cell_type": "code",
   "execution_count": 18,
   "metadata": {
    "collapsed": false
   },
   "outputs": [
    {
     "name": "stdout",
     "output_type": "stream",
     "text": [
      "0 Rafał Ambrozik /sklad/senatorowie/senator,863,9,rafal-ambrozik.html\n",
      "1 Mieczysław Augustyn /sklad/senatorowie/senator,97,9,mieczyslaw-augustyn.html\n",
      "2 Adam Bielan /sklad/senatorowie/senator,869,9,adam-bielan.html\n",
      "3 Grzegorz Bierecki /sklad/senatorowie/senator,26,9,grzegorz-bierecki.html\n",
      "4 Przemysław Błaszczyk /sklad/senatorowie/senator,34,9,przemyslaw-blaszczyk.html\n",
      "5 Aleksander Bobko /sklad/senatorowie/senator,872,9,aleksander-bobko.html\n",
      "6 Ryszard Bonisławski /sklad/senatorowie/senator,33,9,ryszard-bonislawski.html\n",
      "7 Waldemar Bonkowski /sklad/senatorowie/senator,875,9,waldemar-bonkowski.html\n",
      "8 Marek Borowski /sklad/senatorowie/senator,51,9,marek-borowski.html\n",
      "9 Bogdan Borusewicz /sklad/senatorowie/senator,74,9,bogdan-borusewicz.html\n",
      "10 Margareta Budner /sklad/senatorowie/senator,386,9,margareta-budner.html\n",
      "11 Jerzy Chróścikowski /sklad/senatorowie/senator,28,9,jerzy-chroscikowski.html\n",
      "12 Zbigniew Cichoń /sklad/senatorowie/senator,220,9,zbigniew-cichon.html\n",
      "13 Leszek Czarnobaj /sklad/senatorowie/senator,76,9,leszek-czarnobaj.html\n",
      "14 Grzegorz Czelej /sklad/senatorowie/senator,24,9,grzegorz-czelej.html\n",
      "15 Jerzy Czerwiński /sklad/senatorowie/senator,870,9,jerzy-czerwinski.html\n",
      "16 Dorota Czudowska /sklad/senatorowie/senator,12,9,dorota-czudowska.html\n",
      "17 Wiesław Dobkowski /sklad/senatorowie/senator,37,9,wieslaw-dobkowski.html\n",
      "18 Jan Dobrzyński /sklad/senatorowie/senator,223,9,jan-dobrzynski.html\n",
      "19 Robert Dowhan /sklad/senatorowie/senator,31,9,robert-dowhan.html\n",
      "20 Jarosław Duda /sklad/senatorowie/senator,15,9,jaroslaw-duda.html\n",
      "21 Jerzy Fedorowicz /sklad/senatorowie/senator,865,9,jerzy-fedorowicz.html\n",
      "22 Piotr Florek /sklad/senatorowie/senator,889,9,piotr-florek.html\n",
      "23 Robert Gaweł /sklad/senatorowie/senator,890,9,robert-gawel.html\n",
      "24 Adam Gawęda /sklad/senatorowie/senator,880,9,adam-gaweda.html\n",
      "25 Stanisław Gogacz /sklad/senatorowie/senator,23,9,stanislaw-gogacz.html\n",
      "26 Arkadiusz Grabowski /sklad/senatorowie/senator,882,9,arkadiusz-grabowski.html\n",
      "27 Tomasz Grodzki /sklad/senatorowie/senator,893,9,tomasz-grodzki.html\n",
      "28 Maciej Grubski /sklad/senatorowie/senator,32,9,maciej-grubski.html\n",
      "29 Jan Hamerski /sklad/senatorowie/senator,866,9,jan-hamerski.html\n",
      "30 Jan Maria Jackowski /sklad/senatorowie/senator,48,9,jan-maria-jackowski.html\n",
      "31 Andrzej Kamiński /sklad/senatorowie/senator,884,9,andrzej-kaminski.html\n",
      "32 Stanisław Karczewski /sklad/senatorowie/senator,58,9,stanislaw-karczewski.html\n",
      "33 Wiesław Kilian /sklad/senatorowie/senator,13,9,wieslaw-kilian.html\n",
      "34 Kazimierz Kleina /sklad/senatorowie/senator,71,9,kazimierz-kleina.html\n",
      "35 Bogdan Klich /sklad/senatorowie/senator,42,9,bogdan-klich.html\n",
      "36 Andrzej Kobiak /sklad/senatorowie/senator,18,9,andrzej-kobiak.html\n",
      "37 Maria Koc /sklad/senatorowie/senator,845,9,maria-koc.html\n",
      "38 Stanisław Kogut /sklad/senatorowie/senator,46,9,stanislaw-kogut.html\n",
      "39 Władysław Komarnicki /sklad/senatorowie/senator,861,9,wladyslaw-komarnicki.html\n",
      "40 Tadeusz Kopeć /sklad/senatorowie/senator,88,9,tadeusz-kopec.html\n",
      "41 Małgorzata Kopiczko /sklad/senatorowie/senator,888,9,malgorzata-kopiczko.html\n",
      "42 Waldemar Kraska /sklad/senatorowie/senator,57,9,waldemar-kraska.html\n",
      "43 Jan Filip Libicki /sklad/senatorowie/senator,98,9,jan-filip-libicki.html\n",
      "44 Maciej Łuczak /sklad/senatorowie/senator,862,9,maciej-luczak.html\n",
      "45 Józef Łyczak /sklad/senatorowie/senator,858,9,jozef-lyczak.html\n",
      "46 Ryszard Majer /sklad/senatorowie/senator,943,9,ryszard-majer.html\n",
      "47 Robert Mamątow /sklad/senatorowie/senator,55,9,robert-mamatow.html\n",
      "48 Marek Martynowski /sklad/senatorowie/senator,47,9,marek-martynowski.html\n",
      "49 Łukasz Mikołajczyk /sklad/senatorowie/senator,891,9,lukasz-mikolajczyk.html\n",
      "50 Andrzej Mioduszewski /sklad/senatorowie/senator,857,9,andrzej-mioduszewski.html\n",
      "51 Andrzej Misiołek /sklad/senatorowie/senator,80,9,andrzej-misiolek.html\n",
      "52 Krzysztof Mróz /sklad/senatorowie/senator,853,9,krzysztof-mroz.html\n",
      "53 Grzegorz Napieralski /sklad/senatorowie/senator,945,9,grzegorz-napieralski.html\n",
      "54 Jarosław Obremski /sklad/senatorowie/senator,17,9,jaroslaw-obremski.html\n",
      "55 Bogusława Orzechowska /sklad/senatorowie/senator,886,9,boguslawa-orzechowska.html\n",
      "56 Andrzej Pająk /sklad/senatorowie/senator,39,9,andrzej-pajak.html\n",
      "57 Maria Pańczyk-Pozdziej /sklad/senatorowie/senator,79,9,maria-panczyk-pozdziej.html\n",
      "58 Bohdan Paszkowski /sklad/senatorowie/senator,68,9,bohdan-paszkowski.html\n",
      "59 Grzegorz Peczkis /sklad/senatorowie/senator,871,9,grzegorz-peczkis.html\n",
      "60 Marek Pęk /sklad/senatorowie/senator,864,9,marek-pek.html\n",
      "61 Wojciech Piecha /sklad/senatorowie/senator,881,9,wojciech-piecha.html\n",
      "62 Leszek Piechota /sklad/senatorowie/senator,83,9,leszek-piechota.html\n",
      "63 Aleksander Pociej /sklad/senatorowie/senator,54,9,aleksander-pociej.html\n",
      "64 Marian Poślednik /sklad/senatorowie/senator,103,9,marian-poslednik.html\n",
      "65 Michał Potoczny /sklad/senatorowie/senator,883,9,michal-potoczny.html\n",
      "66 Krystian Probierz /sklad/senatorowie/senator,879,9,krystian-probierz.html\n",
      "67 Zdzisław Pupa /sklad/senatorowie/senator,246,9,zdzislaw-pupa.html\n",
      "68 Konstanty Radziwiłł /sklad/senatorowie/senator,868,9,konstanty-radziwill.html\n",
      "69 Marek Rocki /sklad/senatorowie/senator,52,9,marek-rocki.html\n",
      "70 Tadeusz Romańczuk /sklad/senatorowie/senator,874,9,tadeusz-romanczuk.html\n",
      "71 Jadwiga Rotnicka /sklad/senatorowie/senator,100,9,jadwiga-rotnicka.html\n",
      "72 Jan Rulewski /sklad/senatorowie/senator,19,9,jan-rulewski.html\n",
      "73 Jarosław Rusiecki /sklad/senatorowie/senator,847,9,jaroslaw-rusiecki.html\n",
      "74 Sławomir Rybicki /sklad/senatorowie/senator,876,9,slawomir-rybicki.html\n",
      "75 Czesław Ryszka /sklad/senatorowie/senator,249,9,czeslaw-ryszka.html\n",
      "76 Janina Sagatowska /sklad/senatorowie/senator,63,9,janina-sagatowska.html\n",
      "77 Michał Seweryński /sklad/senatorowie/senator,36,9,michal-sewerynski.html\n",
      "78 Krzysztof Słoń /sklad/senatorowie/senator,92,9,krzysztof-slon.html\n",
      "79 Waldemar Sługocki /sklad/senatorowie/senator,860,9,waldemar-slugocki.html\n",
      "80 Andrzej Stanisławek /sklad/senatorowie/senator,859,9,andrzej-stanislawek.html\n",
      "81 Lidia Staroń /sklad/senatorowie/senator,887,9,lidia-staron.html\n",
      "82 Grażyna Sztark /sklad/senatorowie/senator,108,9,grazyna-sztark.html\n",
      "83 Aleksander Szwed /sklad/senatorowie/senator,854,9,aleksander-szwed.html\n",
      "84 Antoni Szymański /sklad/senatorowie/senator,455,9,antoni-szymanski.html\n",
      "85 Rafał Ślusarz /sklad/senatorowie/senator,458,9,rafal-slusarz.html\n",
      "86 Przemysław Termiński /sklad/senatorowie/senator,856,9,przemyslaw-terminski.html\n",
      "87 Piotr Wach /sklad/senatorowie/senator,61,9,piotr-wach.html\n",
      "88 Artur Warzocha /sklad/senatorowie/senator,878,9,artur-warzocha.html\n",
      "89 Jerzy Wcisła /sklad/senatorowie/senator,885,9,jerzy-wcisla.html\n",
      "90 Kazimierz Wiatr /sklad/senatorowie/senator,44,9,kazimierz-wiatr.html\n",
      "91 Jacek Włosowicz /sklad/senatorowie/senator,468,9,jacek-wlosowicz.html\n",
      "92 Andrzej Wojtyła /sklad/senatorowie/senator,892,9,andrzej-wojtyla.html\n",
      "93 Alicja Zając /sklad/senatorowie/senator,66,9,alicja-zajac.html\n",
      "94 Józef Zając /sklad/senatorowie/senator,27,9,jozef-zajac.html\n",
      "95 Barbara Zdrojewska /sklad/senatorowie/senator,855,9,barbara-zdrojewska.html\n",
      "96 Piotr Zientarski /sklad/senatorowie/senator,109,9,piotr-zientarski.html\n",
      "97 Jan Żaryn /sklad/senatorowie/senator,867,9,jan-zaryn.html\n"
     ]
    }
   ],
   "source": [
    "for i, f in enumerate(soup.find_all('div', 'senator-kontener')):\n",
    "    a = f.find('a')\n",
    "    print(i, a.string, a.attrs['href'])"
   ]
  },
  {
   "cell_type": "code",
   "execution_count": null,
   "metadata": {
    "collapsed": true
   },
   "outputs": [],
   "source": []
  }
 ],
 "metadata": {
  "kernelspec": {
   "display_name": "Python 3",
   "language": "python",
   "name": "python3"
  },
  "language_info": {
   "codemirror_mode": {
    "name": "ipython",
    "version": 3
   },
   "file_extension": ".py",
   "mimetype": "text/x-python",
   "name": "python",
   "nbconvert_exporter": "python",
   "pygments_lexer": "ipython3",
   "version": "3.5.0"
  }
 },
 "nbformat": 4,
 "nbformat_minor": 0
}
